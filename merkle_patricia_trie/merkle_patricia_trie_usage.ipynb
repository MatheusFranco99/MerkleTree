{
 "cells": [
  {
   "cell_type": "markdown",
   "metadata": {},
   "source": [
    "# Merkle Patricia Trie Usage Example"
   ]
  },
  {
   "cell_type": "code",
   "execution_count": 1,
   "metadata": {},
   "outputs": [
    {
     "name": "stdout",
     "output_type": "stream",
     "text": [
      "Accounts:\n",
      "\t (Account Key: ab6fcdb9c0961e328293807cc502fce5f78d3fdd15f35bde1b556de431d16b86, Balance: 10)\n",
      "\t (Account Key: abfa9198c5423f8d8c937284d4b8cc0a00fecdeebe7f4a51a2b692d3f629ba80, Balance: 20)\n",
      "Extension Node: (Prefix key: , Shared nibble: ab)\n",
      "\tBranch Node: (Prefix key: ab)\n",
      "\t\t6 ->Leaf Node: (Prefix key: ab6, Key end: fcdb9c0961e328293807cc502fce5f78d3fdd15f35bde1b556de431d16b86, Data: (Account Key: ab6fcdb9c0961e328293807cc502fce5f78d3fdd15f35bde1b556de431d16b86, Balance: 10))\n",
      "\t\t15 ->Leaf Node: (Prefix key: abf, Key end: a9198c5423f8d8c937284d4b8cc0a00fecdeebe7f4a51a2b692d3f629ba80, Data: (Account Key: abfa9198c5423f8d8c937284d4b8cc0a00fecdeebe7f4a51a2b692d3f629ba80, Balance: 20))\n"
     ]
    }
   ],
   "source": [
    "# Example with two accounts with common prefixes\n",
    "\n",
    "import hashlib\n",
    "import random\n",
    "from account import Account\n",
    "from merkle_patricia_trie import MerklePatriciaTrie\n",
    "from util import print_merkle_patricia_tree\n",
    "\n",
    "def get_random_key() -> str:\n",
    "    \"\"\" Gets a random key \"\"\"\n",
    "    id_value = str(random.randint(1, 1e9))\n",
    "    return hashlib.sha256(id_value.encode(\"utf-8\")).hexdigest()\n",
    "\n",
    "def print_accounts(accounts: list[Account]) -> None:\n",
    "    \"\"\" Print list of accounts \"\"\"\n",
    "    print(\"Accounts:\")\n",
    "    for acc in accounts:\n",
    "        print(\"\\t\",acc)\n",
    "\n",
    "a1 = Account(get_random_key(), balance = 10)\n",
    "a2 = Account(get_random_key(), balance = 20)\n",
    "# Force shared nibble\n",
    "a1.key = \"ab\" + a1.key[2:]\n",
    "a2.key = \"ab\" + a2.key[2:]\n",
    "accounts = [a1, a2]\n",
    "print_accounts(accounts)\n",
    "\n",
    "mpt = MerklePatriciaTrie(accounts)\n",
    "\n",
    "print_merkle_patricia_tree(mpt.root)"
   ]
  },
  {
   "cell_type": "code",
   "execution_count": 2,
   "metadata": {},
   "outputs": [
    {
     "name": "stdout",
     "output_type": "stream",
     "text": [
      "Extension Node: (Prefix key: , Shared nibble: )\n",
      "\tBranch Node: (Prefix key: )\n",
      "\t\t5 ->Leaf Node: (Prefix key: 5, Key end: e9f283a2c86242b9a7024a16b9c57207ff9ba5ca5cf31ba5738b8e5419b89b1, Data: (Account Key: 5e9f283a2c86242b9a7024a16b9c57207ff9ba5ca5cf31ba5738b8e5419b89b1, Balance: 10))\n",
      "\t\t6 ->Leaf Node: (Prefix key: 6, Key end: b0eed0898b5722d83c75643bbf491de8e5ac4340ccfa82b929bff747bea8591, Data: (Account Key: 6b0eed0898b5722d83c75643bbf491de8e5ac4340ccfa82b929bff747bea8591, Balance: 10))\n",
      "\t\t8 ->Leaf Node: (Prefix key: 8, Key end: 580591650a5d2f0723bcf953d3af591dd5524048d369c0a2d3d98fb4328b866, Data: (Account Key: 8580591650a5d2f0723bcf953d3af591dd5524048d369c0a2d3d98fb4328b866, Balance: 10))\n",
      "\t\t13 ->Leaf Node: (Prefix key: d, Key end: fc32046c628cefc7674323a25af7d97b541b3d9905f03f0446bfd812407b85f, Data: (Account Key: dfc32046c628cefc7674323a25af7d97b541b3d9905f03f0446bfd812407b85f, Balance: 10))\n",
      "\t\t15 ->Leaf Node: (Prefix key: f, Key end: edf8aaf2e5cd148eb8d18a12c57783f9ca07e17250d1c92224aa95478da9ab5, Data: (Account Key: fedf8aaf2e5cd148eb8d18a12c57783f9ca07e17250d1c92224aa95478da9ab5, Balance: 10))\n",
      "\t\tExtension Node: (Prefix key: e, Shared nibble: )\n",
      "\t\t\tBranch Node: (Prefix key: e)\n",
      "\t\t\t\t10 ->Leaf Node: (Prefix key: ea, Key end: 3c793a315622ac099817421b5b950fc7497703ab269effba3ad15279361cf0, Data: (Account Key: ea3c793a315622ac099817421b5b950fc7497703ab269effba3ad15279361cf0, Balance: 10))\n",
      "\t\t\t\t15 ->Leaf Node: (Prefix key: ef, Key end: e2e954416b930bd9f8e0f6b20b4edd45fc1c781dbef9cb32bf8ad3c52c43d8, Data: (Account Key: efe2e954416b930bd9f8e0f6b20b4edd45fc1c781dbef9cb32bf8ad3c52c43d8, Balance: 10))\n",
      "\t\tExtension Node: (Prefix key: c, Shared nibble: )\n",
      "\t\t\tBranch Node: (Prefix key: c)\n",
      "\t\t\t\t1 ->Leaf Node: (Prefix key: c1, Key end: 6200bfcdeeaea5a7578536ff09a6e96e25ca81ac49393d1a9bc3b5f8004c66, Data: (Account Key: c16200bfcdeeaea5a7578536ff09a6e96e25ca81ac49393d1a9bc3b5f8004c66, Balance: 10))\n",
      "\t\t\t\t8 ->Leaf Node: (Prefix key: c8, Key end: 1ebf78e3fd3638d7bdb1614f7c8b06c31751ebd0aedc46cd3979bd3dce145c, Data: (Account Key: c81ebf78e3fd3638d7bdb1614f7c8b06c31751ebd0aedc46cd3979bd3dce145c, Balance: 10))\n",
      "\t\tExtension Node: (Prefix key: 4, Shared nibble: )\n",
      "\t\t\tBranch Node: (Prefix key: 4)\n",
      "\t\t\t\t8 ->Leaf Node: (Prefix key: 48, Key end: e774a1a06259e919bd839cf78e57ee87f2b2c169210f30e982b5a9c0591f61, Data: (Account Key: 48e774a1a06259e919bd839cf78e57ee87f2b2c169210f30e982b5a9c0591f61, Balance: 10))\n",
      "\t\t\t\t9 ->Leaf Node: (Prefix key: 49, Key end: e950afba96f907cf0812af98a0c8431e772768d555a9923e7be1075450be93, Data: (Account Key: 49e950afba96f907cf0812af98a0c8431e772768d555a9923e7be1075450be93, Balance: 10))\n",
      "\t\tExtension Node: (Prefix key: 3, Shared nibble: )\n",
      "\t\t\tBranch Node: (Prefix key: 3)\n",
      "\t\t\t\t0 ->Leaf Node: (Prefix key: 30, Key end: 75950d6f9374f217a0a3213b5ba31fb3dca0c335d4ac19ca63562a172d037b, Data: (Account Key: 3075950d6f9374f217a0a3213b5ba31fb3dca0c335d4ac19ca63562a172d037b, Balance: 10))\n",
      "\t\t\t\t3 ->Leaf Node: (Prefix key: 33, Key end: 8bc58a838bcff81957ecca7fdd49dfefec66099396b5f7e72cde7751b37f20, Data: (Account Key: 338bc58a838bcff81957ecca7fdd49dfefec66099396b5f7e72cde7751b37f20, Balance: 10))\n",
      "\t\t\t\t13 ->Leaf Node: (Prefix key: 3d, Key end: 320ae2d356e22b0c1d05e97539297b3fd2166b826a550a7de609005ba6fcd7, Data: (Account Key: 3d320ae2d356e22b0c1d05e97539297b3fd2166b826a550a7de609005ba6fcd7, Balance: 10))\n",
      "\t\tExtension Node: (Prefix key: 2, Shared nibble: )\n",
      "\t\t\tBranch Node: (Prefix key: 2)\n",
      "\t\t\t\t0 ->Leaf Node: (Prefix key: 20, Key end: 3c782e8f011b48b18e47f00c48664b34313fae441de387d803e7e13a14c622, Data: (Account Key: 203c782e8f011b48b18e47f00c48664b34313fae441de387d803e7e13a14c622, Balance: 10))\n",
      "\t\t\t\t4 ->Leaf Node: (Prefix key: 24, Key end: 64182973e49201d261617ca7c0ebfd57873683d7724cc3d759197201c1caf6, Data: (Account Key: 2464182973e49201d261617ca7c0ebfd57873683d7724cc3d759197201c1caf6, Balance: 10))\n",
      "\t\t\t\t8 ->Leaf Node: (Prefix key: 28, Key end: e95cc3da97c418ca9ef584fd8a8e847d266909437f7c242054da0da0c588b1, Data: (Account Key: 28e95cc3da97c418ca9ef584fd8a8e847d266909437f7c242054da0da0c588b1, Balance: 10))\n",
      "\t\t\t\t15 ->Leaf Node: (Prefix key: 2f, Key end: afdfed97b13df7b0cbd67c89b10e6aeb845b7da02dd0671cb9ce8a56beac6d, Data: (Account Key: 2fafdfed97b13df7b0cbd67c89b10e6aeb845b7da02dd0671cb9ce8a56beac6d, Balance: 10))\n",
      "\t\tExtension Node: (Prefix key: 0, Shared nibble: )\n",
      "\t\t\tBranch Node: (Prefix key: 0)\n",
      "\t\t\t\t13 ->Leaf Node: (Prefix key: 0d, Key end: 3780b280a44baba7d144b25080b032fe686668b0087f7b77e3659019d729f3, Data: (Account Key: 0d3780b280a44baba7d144b25080b032fe686668b0087f7b77e3659019d729f3, Balance: 10))\n",
      "\t\t\t\t14 ->Leaf Node: (Prefix key: 0e, Key end: f71f7a43a00bc7e5742b5bf6a7cb23719afa91140a572785b487ccf2f32407, Data: (Account Key: 0ef71f7a43a00bc7e5742b5bf6a7cb23719afa91140a572785b487ccf2f32407, Balance: 10))\n"
     ]
    }
   ],
   "source": [
    "# Test for bigger sample\n",
    "\n",
    "def generate_accounts(num: int) -> list[Account]:\n",
    "    \"\"\" Return a list of created accounts \"\"\"\n",
    "    return [Account(get_random_key(), balance = 10) for _ in range(num)]\n",
    "\n",
    "mpt = MerklePatriciaTrie(generate_accounts(20))\n",
    "print_merkle_patricia_tree(mpt.root)"
   ]
  }
 ],
 "metadata": {
  "kernelspec": {
   "display_name": "Python 3",
   "language": "python",
   "name": "python3"
  },
  "language_info": {
   "codemirror_mode": {
    "name": "ipython",
    "version": 3
   },
   "file_extension": ".py",
   "mimetype": "text/x-python",
   "name": "python",
   "nbconvert_exporter": "python",
   "pygments_lexer": "ipython3",
   "version": "3.11.4"
  }
 },
 "nbformat": 4,
 "nbformat_minor": 2
}
