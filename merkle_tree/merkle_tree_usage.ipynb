{
 "cells": [
  {
   "cell_type": "markdown",
   "metadata": {},
   "source": [
    "# Merkle Tree Usage"
   ]
  },
  {
   "cell_type": "code",
   "execution_count": 1,
   "metadata": {},
   "outputs": [
    {
     "name": "stdout",
     "output_type": "stream",
     "text": [
      "(c5e7a...)\n",
      "\t(4917d...)\n",
      "\t\t(c312f...) -> (ID: 4, Nonce: 569776231)\n",
      "\t\t(175d5...) -> (ID: 3, Nonce: 284625067)\n",
      "\t(1d746...)\n",
      "\t\t(1a870...) -> (ID: 2, Nonce: 604664720)\n",
      "\t\t(3b9e6...) -> (ID: 1, Nonce: 957207228)\n"
     ]
    }
   ],
   "source": [
    "# Build tree\n",
    "\n",
    "from merkle_tree import MerkleTree\n",
    "from transaction import Transaction\n",
    "from tree_node import print_tree\n",
    "\n",
    "t1 = Transaction(1)\n",
    "t2 = Transaction(2)\n",
    "t3 = Transaction(3)\n",
    "t4 = Transaction(4)\n",
    "missing_transaction = Transaction(5)\n",
    "\n",
    "mt = MerkleTree(transactions = [t1, t2, t3, t4])\n",
    "\n",
    "print_tree(mt.root_node)"
   ]
  },
  {
   "cell_type": "code",
   "execution_count": 2,
   "metadata": {},
   "outputs": [
    {
     "data": {
      "text/plain": [
       "0: (Hash:1a870, direction: MerkleJoinDirection.RIGHT)\n",
       "1: (Hash:4917d, direction: MerkleJoinDirection.RIGHT)"
      ]
     },
     "execution_count": 2,
     "metadata": {},
     "output_type": "execute_result"
    }
   ],
   "source": [
    "# Get proof that t1 belongs to list of transactions\n",
    "proof = mt.proof_for_transaction(t1)\n",
    "proof"
   ]
  },
  {
   "cell_type": "code",
   "execution_count": 3,
   "metadata": {},
   "outputs": [
    {
     "name": "stdout",
     "output_type": "stream",
     "text": [
      "Proof result: True\n"
     ]
    }
   ],
   "source": [
    "# Verify proof\n",
    "from merkle_tree_proof import verify_merkle_proof\n",
    "print(\"Proof result:\", verify_merkle_proof(MerkleTree.hash_object(t1.body()), proof, mt.root_node.hash, MerkleTree.hash_object))"
   ]
  },
  {
   "cell_type": "code",
   "execution_count": 4,
   "metadata": {},
   "outputs": [
    {
     "name": "stdout",
     "output_type": "stream",
     "text": [
      "Proof for wrong object: False\n"
     ]
    }
   ],
   "source": [
    "# Check proof won't work for other object\n",
    "\n",
    "print(\"Proof for wrong object:\", verify_merkle_proof(MerkleTree.hash_object(t2.body()), proof, mt.root_node.hash, MerkleTree.hash_object))"
   ]
  },
  {
   "cell_type": "code",
   "execution_count": 5,
   "metadata": {},
   "outputs": [
    {
     "name": "stdout",
     "output_type": "stream",
     "text": [
      "None\n"
     ]
    }
   ],
   "source": [
    "# Try to get proof for missing_transaction\n",
    "print(mt.proof_for_transaction(missing_transaction))"
   ]
  }
 ],
 "metadata": {
  "kernelspec": {
   "display_name": "Python 3",
   "language": "python",
   "name": "python3"
  },
  "language_info": {
   "codemirror_mode": {
    "name": "ipython",
    "version": 3
   },
   "file_extension": ".py",
   "mimetype": "text/x-python",
   "name": "python",
   "nbconvert_exporter": "python",
   "pygments_lexer": "ipython3",
   "version": "3.11.4"
  }
 },
 "nbformat": 4,
 "nbformat_minor": 2
}
